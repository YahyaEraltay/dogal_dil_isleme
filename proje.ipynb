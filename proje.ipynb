{
 "cells": [
  {
   "cell_type": "markdown",
   "id": "c4ed6762-1493-4b75-b9df-9e56b225be04",
   "metadata": {
    "tags": []
   },
   "source": [
    "# Kütüphaneler"
   ]
  },
  {
   "cell_type": "code",
   "execution_count": 1,
   "id": "ed12b90a-9a23-4386-8f6a-5ede02d9d1d8",
   "metadata": {},
   "outputs": [],
   "source": [
    "import csv\n",
    "import numpy as np\n",
    "import pandas as pd\n",
    "import nltk \n",
    "from nltk.corpus import stopwords\n",
    "import warnings\n",
    "from snowballstemmer import TurkishStemmer\n",
    "\n",
    "from sklearn import model_selection, preprocessing, linear_model, naive_bayes, metrics\n",
    "from sklearn.feature_extraction.text import TfidfVectorizer, CountVectorizer\n",
    "from sklearn.svm import SVC\n",
    "from keras.preprocessing import text, sequence\n",
    "from keras import layers, models, optimizers\n",
    "from sklearn import decomposition, ensemble\n",
    "import textblob\n",
    "from textblob import TextBlob\n",
    "from sklearn.metrics import confusion_matrix\n",
    "from sklearn.metrics import precision_score, recall_score, f1_score, accuracy_score\n",
    "from sklearn.metrics import classification_report\n",
    "import matplotlib.pyplot as plt\n"
   ]
  },
  {
   "cell_type": "markdown",
   "id": "b4366397-154e-47ba-ac7b-2164fe8d969c",
   "metadata": {
    "tags": []
   },
   "source": [
    "# Veri Dosyasını Okuma"
   ]
  },
  {
   "cell_type": "code",
   "execution_count": 2,
   "id": "ca3f1de9-c490-4f2f-9500-50bf8b83bb21",
   "metadata": {
    "tags": []
   },
   "outputs": [
    {
     "data": {
      "text/html": [
       "<div>\n",
       "<style scoped>\n",
       "    .dataframe tbody tr th:only-of-type {\n",
       "        vertical-align: middle;\n",
       "    }\n",
       "\n",
       "    .dataframe tbody tr th {\n",
       "        vertical-align: top;\n",
       "    }\n",
       "\n",
       "    .dataframe thead th {\n",
       "        text-align: right;\n",
       "    }\n",
       "</style>\n",
       "<table border=\"1\" class=\"dataframe\">\n",
       "  <thead>\n",
       "    <tr style=\"text-align: right;\">\n",
       "      <th></th>\n",
       "      <th>Görüş</th>\n",
       "      <th>Durum</th>\n",
       "    </tr>\n",
       "  </thead>\n",
       "  <tbody>\n",
       "    <tr>\n",
       "      <th>0</th>\n",
       "      <td>ses kalitesi ve ergonomisi rezalet, sony olduğu için aldım ama 4'de 1 fiyatına çin replika ürün alsaydım çok çok daha iyiydi, kesinlikle tavsiye etmiyorum.</td>\n",
       "      <td>Olumsuz</td>\n",
       "    </tr>\n",
       "    <tr>\n",
       "      <th>1</th>\n",
       "      <td>hizli teslimat tesekkürler</td>\n",
       "      <td>Tarafsız</td>\n",
       "    </tr>\n",
       "    <tr>\n",
       "      <th>2</th>\n",
       "      <td>ses olayı süper....gece çalıştır sıkıntı yok.....kablo uzun işinizi çok rahat ettirir.....çekme olayı son derece güzel içiniz rahat olsun......diğerlerini saymıyorum bile.....</td>\n",
       "      <td>Olumlu</td>\n",
       "    </tr>\n",
       "    <tr>\n",
       "      <th>3</th>\n",
       "      <td>geldi bigün kullandık hemen bozoldu hiçtavsiye. etmem</td>\n",
       "      <td>Olumsuz</td>\n",
       "    </tr>\n",
       "    <tr>\n",
       "      <th>4</th>\n",
       "      <td>Kulaklığın sesi kaliteli falan değil. Aleti öve öve bitiremeyen yorumlar şüpheli. Tizler yok gibi ve olan da boğuk çıkıyor. Bas, kaba saba, ben buradayım diyor ama kalite yok. İyi ses arayanlara tavsiye etmem. Hayatımda aldığım ilk Snopy marka üründü, onu da bazı yorumlara güvenerek aldım ve pişman oldum. Hepsiburada'nın sahte yorumlara karşı önlem alması gerekiyor artık.</td>\n",
       "      <td>Olumsuz</td>\n",
       "    </tr>\n",
       "    <tr>\n",
       "      <th>...</th>\n",
       "      <td>...</td>\n",
       "      <td>...</td>\n",
       "    </tr>\n",
       "    <tr>\n",
       "      <th>11424</th>\n",
       "      <td>biraz fazla ısınıyor ama sorumsuz çalışıyor</td>\n",
       "      <td>Tarafsız</td>\n",
       "    </tr>\n",
       "    <tr>\n",
       "      <th>11425</th>\n",
       "      <td>orijinal ürün fakat ambalaj bize ulaşana kadar param parça olmuş...</td>\n",
       "      <td>Tarafsız</td>\n",
       "    </tr>\n",
       "    <tr>\n",
       "      <th>11426</th>\n",
       "      <td>bu cihazı 1 yıldır kullanıyorum cihazı çok beğenerek aldım. fakat memnun kalmadm çok ses çıkarıyor sanki evde yayık cihazı çalışıyor . kıyafetleri de normal yıkıyor öyle etkileyici bı performansı yok .</td>\n",
       "      <td>Olumsuz</td>\n",
       "    </tr>\n",
       "    <tr>\n",
       "      <th>11427</th>\n",
       "      <td>Bir sene olmadı ayar düğmesine basıyorum ekran gidip geliyor</td>\n",
       "      <td>Tarafsız</td>\n",
       "    </tr>\n",
       "    <tr>\n",
       "      <th>11428</th>\n",
       "      <td>Urun kaliteli zamaninda tedlimat ve kullanisli köpüğü bol. Tesekkurler evidea.</td>\n",
       "      <td>Olumlu</td>\n",
       "    </tr>\n",
       "  </tbody>\n",
       "</table>\n",
       "<p>11429 rows × 2 columns</p>\n",
       "</div>"
      ],
      "text/plain": [
       "                                                                                                                                                                                                                                                                                                                                                                                        Görüş  \\\n",
       "0                                                                                                                                                                                                                                 ses kalitesi ve ergonomisi rezalet, sony olduğu için aldım ama 4'de 1 fiyatına çin replika ürün alsaydım çok çok daha iyiydi, kesinlikle tavsiye etmiyorum.   \n",
       "1                                                                                                                                                                                                                                                                                                                                                                  hizli teslimat tesekkürler   \n",
       "2                                                                                                                                                                                                             ses olayı süper....gece çalıştır sıkıntı yok.....kablo uzun işinizi çok rahat ettirir.....çekme olayı son derece güzel içiniz rahat olsun......diğerlerini saymıyorum bile.....   \n",
       "3                                                                                                                                                                                                                                                                                                                                       geldi bigün kullandık hemen bozoldu hiçtavsiye. etmem   \n",
       "4      Kulaklığın sesi kaliteli falan değil. Aleti öve öve bitiremeyen yorumlar şüpheli. Tizler yok gibi ve olan da boğuk çıkıyor. Bas, kaba saba, ben buradayım diyor ama kalite yok. İyi ses arayanlara tavsiye etmem. Hayatımda aldığım ilk Snopy marka üründü, onu da bazı yorumlara güvenerek aldım ve pişman oldum. Hepsiburada'nın sahte yorumlara karşı önlem alması gerekiyor artık.   \n",
       "...                                                                                                                                                                                                                                                                                                                                                                                       ...   \n",
       "11424                                                                                                                                                                                                                                                                                                                                             biraz fazla ısınıyor ama sorumsuz çalışıyor   \n",
       "11425                                                                                                                                                                                                                                                                                                                     orijinal ürün fakat ambalaj bize ulaşana kadar param parça olmuş...   \n",
       "11426                                                                                                                                                                               bu cihazı 1 yıldır kullanıyorum cihazı çok beğenerek aldım. fakat memnun kalmadm çok ses çıkarıyor sanki evde yayık cihazı çalışıyor . kıyafetleri de normal yıkıyor öyle etkileyici bı performansı yok .   \n",
       "11427                                                                                                                                                                                                                                                                                                                            Bir sene olmadı ayar düğmesine basıyorum ekran gidip geliyor   \n",
       "11428                                                                                                                                                                                                                                                                                                          Urun kaliteli zamaninda tedlimat ve kullanisli köpüğü bol. Tesekkurler evidea.   \n",
       "\n",
       "          Durum  \n",
       "0       Olumsuz  \n",
       "1      Tarafsız  \n",
       "2        Olumlu  \n",
       "3       Olumsuz  \n",
       "4       Olumsuz  \n",
       "...         ...  \n",
       "11424  Tarafsız  \n",
       "11425  Tarafsız  \n",
       "11426   Olumsuz  \n",
       "11427  Tarafsız  \n",
       "11428    Olumlu  \n",
       "\n",
       "[11429 rows x 2 columns]"
      ]
     },
     "metadata": {},
     "output_type": "display_data"
    }
   ],
   "source": [
    "df= pd.read_csv(\"veriSeti.csv\",  encoding = \"utf16\")\n",
    "df.drop(df.columns[df.columns.str.contains('unnamed',case = False)],axis = 1, inplace = True)\n",
    "\n",
    "with pd.option_context(\"display.max_colwidth\", None): display(df)\n"
   ]
  },
  {
   "cell_type": "markdown",
   "id": "ad9413d9-8074-477e-87e2-efae547fcb30",
   "metadata": {
    "tags": []
   },
   "source": [
    "# Metin Ön İşleme"
   ]
  },
  {
   "cell_type": "code",
   "execution_count": 3,
   "id": "b30cafd9-edae-4487-bd6b-5cf9cedbfae6",
   "metadata": {
    "tags": []
   },
   "outputs": [
    {
     "name": "stderr",
     "output_type": "stream",
     "text": [
      "C:\\Users\\eralt\\AppData\\Local\\Temp\\ipykernel_2612\\3674110525.py:2: FutureWarning: The default value of regex will change from True to False in a future version.\n",
      "  df['Görüş'] = df['Görüş'].str.replace('[^\\w\\s]','')\n",
      "C:\\Users\\eralt\\AppData\\Local\\Temp\\ipykernel_2612\\3674110525.py:5: FutureWarning: The default value of regex will change from True to False in a future version.\n",
      "  df['Görüş'] = df['Görüş'].str.replace('\\d','')\n"
     ]
    },
    {
     "data": {
      "text/html": [
       "<div>\n",
       "<style scoped>\n",
       "    .dataframe tbody tr th:only-of-type {\n",
       "        vertical-align: middle;\n",
       "    }\n",
       "\n",
       "    .dataframe tbody tr th {\n",
       "        vertical-align: top;\n",
       "    }\n",
       "\n",
       "    .dataframe thead th {\n",
       "        text-align: right;\n",
       "    }\n",
       "</style>\n",
       "<table border=\"1\" class=\"dataframe\">\n",
       "  <thead>\n",
       "    <tr style=\"text-align: right;\">\n",
       "      <th></th>\n",
       "      <th>Görüş</th>\n",
       "      <th>Durum</th>\n",
       "    </tr>\n",
       "  </thead>\n",
       "  <tbody>\n",
       "    <tr>\n",
       "      <th>0</th>\n",
       "      <td>ses kalites ergonomis rezalet sony olduk al fiyat çin replika ür alsa i kesinlik tavsi etmiyor</td>\n",
       "      <td>Olumsuz</td>\n",
       "    </tr>\n",
       "    <tr>\n",
       "      <th>2</th>\n",
       "      <td>ses ola süpergeç çalış sık yokkablo uz iş rahat ettirirçekme ola son dereç güzel iç rahat olsundiğer saymıyor bil</td>\n",
       "      <td>Olumlu</td>\n",
       "    </tr>\n",
       "    <tr>\n",
       "      <th>3</th>\n",
       "      <td>gel bigi kulla heme bozol hiçtavsi etme</td>\n",
       "      <td>Olumsuz</td>\n",
       "    </tr>\n",
       "    <tr>\n",
       "      <th>4</th>\n",
       "      <td>kulaklık ses kalitel fala değil alet öv öv bitiremeye yorum şüphel tiz yok ola boğuk çıkıyor bas kap sap ben bura diyor kali yok i̇yi ses arayan tavsi etme hayat aldık ilk snopy marka ür on yorum güvenerek al pişma ol hepsiburada sahte yorum karşı önle almas gerekiyor ar</td>\n",
       "      <td>Olumsuz</td>\n",
       "    </tr>\n",
       "    <tr>\n",
       "      <th>6</th>\n",
       "      <td>kullanisli ba</td>\n",
       "      <td>Olumlu</td>\n",
       "    </tr>\n",
       "    <tr>\n",
       "      <th>...</th>\n",
       "      <td>...</td>\n",
       "      <td>...</td>\n",
       "    </tr>\n",
       "    <tr>\n",
       "      <th>11421</th>\n",
       "      <td>yaklaşık bir ay ö anne al hedi olarak beğe memn kullanışlıs filtrel olmas hava toz emmes süper ev gereklifiyat gör uygu bir ürünhepsi burada teşekkürlersipariş verdik gün kargo verilmiştisüper hızlı ben p der</td>\n",
       "      <td>Olumlu</td>\n",
       "    </tr>\n",
       "    <tr>\n",
       "      <th>11422</th>\n",
       "      <td>beğe hızlı pişiriyor</td>\n",
       "      <td>Olumlu</td>\n",
       "    </tr>\n",
       "    <tr>\n",
       "      <th>11423</th>\n",
       "      <td>ür an kadar beğe standart uygulama kullanıyor zate telefo fazla yeterli ekra büyük hızlı çalışıyor şarj süresi kullanma süre gör gün yeterli oluyor beğe</td>\n",
       "      <td>Olumlu</td>\n",
       "    </tr>\n",
       "    <tr>\n",
       "      <th>11426</th>\n",
       "      <td>cihaz yıl kullanıyor cihaz beğenerek al fakat memn kalmadm ses çıkarıyor ev yayık cihaz çalışıyor kıyafet normal yıkıyor ö etkileyiç bı performansı yok</td>\n",
       "      <td>Olumsuz</td>\n",
       "    </tr>\n",
       "    <tr>\n",
       "      <th>11428</th>\n",
       "      <td>ur kalitel zaman tedlimat kullanisli köpük bol tesekkur evidea</td>\n",
       "      <td>Olumlu</td>\n",
       "    </tr>\n",
       "  </tbody>\n",
       "</table>\n",
       "<p>8502 rows × 2 columns</p>\n",
       "</div>"
      ],
      "text/plain": [
       "                                                                                                                                                                                                                                                                                 Görüş  \\\n",
       "0                                                                                                                                                                                       ses kalites ergonomis rezalet sony olduk al fiyat çin replika ür alsa i kesinlik tavsi etmiyor   \n",
       "2                                                                                                                                                                    ses ola süpergeç çalış sık yokkablo uz iş rahat ettirirçekme ola son dereç güzel iç rahat olsundiğer saymıyor bil   \n",
       "3                                                                                                                                                                                                                                              gel bigi kulla heme bozol hiçtavsi etme   \n",
       "4      kulaklık ses kalitel fala değil alet öv öv bitiremeye yorum şüphel tiz yok ola boğuk çıkıyor bas kap sap ben bura diyor kali yok i̇yi ses arayan tavsi etme hayat aldık ilk snopy marka ür on yorum güvenerek al pişma ol hepsiburada sahte yorum karşı önle almas gerekiyor ar   \n",
       "6                                                                                                                                                                                                                                                                        kullanisli ba   \n",
       "...                                                                                                                                                                                                                                                                                ...   \n",
       "11421                                                                 yaklaşık bir ay ö anne al hedi olarak beğe memn kullanışlıs filtrel olmas hava toz emmes süper ev gereklifiyat gör uygu bir ürünhepsi burada teşekkürlersipariş verdik gün kargo verilmiştisüper hızlı ben p der   \n",
       "11422                                                                                                                                                                                                                                                             beğe hızlı pişiriyor   \n",
       "11423                                                                                                                         ür an kadar beğe standart uygulama kullanıyor zate telefo fazla yeterli ekra büyük hızlı çalışıyor şarj süresi kullanma süre gör gün yeterli oluyor beğe   \n",
       "11426                                                                                                                          cihaz yıl kullanıyor cihaz beğenerek al fakat memn kalmadm ses çıkarıyor ev yayık cihaz çalışıyor kıyafet normal yıkıyor ö etkileyiç bı performansı yok   \n",
       "11428                                                                                                                                                                                                                   ur kalitel zaman tedlimat kullanisli köpük bol tesekkur evidea   \n",
       "\n",
       "         Durum  \n",
       "0      Olumsuz  \n",
       "2       Olumlu  \n",
       "3      Olumsuz  \n",
       "4      Olumsuz  \n",
       "6       Olumlu  \n",
       "...        ...  \n",
       "11421   Olumlu  \n",
       "11422   Olumlu  \n",
       "11423   Olumlu  \n",
       "11426  Olumsuz  \n",
       "11428   Olumlu  \n",
       "\n",
       "[8502 rows x 2 columns]"
      ]
     },
     "metadata": {},
     "output_type": "display_data"
    }
   ],
   "source": [
    "#Noktalama işaretlerinin silinmesi\n",
    "df['Görüş'] = df['Görüş'].str.replace('[^\\w\\s]','')\n",
    "\n",
    "#Sayıların silinmesi\n",
    "df['Görüş'] = df['Görüş'].str.replace('\\d','')\n",
    "\n",
    "#Büyük-Küçük harf dönüştürme\n",
    "df[\"Görüş\"] = df[\"Görüş\"].apply(lambda x: \" \".join(i.lower() for i in str(x).split()))\n",
    "\n",
    "#Stopwordslerin silinmesi\n",
    "sw = stopwords.words(\"turkish\")\n",
    "df['Görüş'] = df['Görüş'].apply(lambda x: \" \".join(x for x in x.split() if x not in sw ))\n",
    "\n",
    "#Stemmening\n",
    "turkStem=TurkishStemmer()\n",
    "df[\"Görüş\"] = df[\"Görüş\"].apply(lambda x: \" \".join(turkStem.stemWord(i) for i in str(x).split()))\n",
    "\n",
    "df.loc[df[\"Durum\"] == \"Tarafsız\", \"Durum\"] = np.nan\n",
    "df.dropna(inplace = True)\n",
    "\n",
    "with pd.option_context(\"display.max_colwidth\", None): display(df)\n",
    "warnings.filterwarnings(\"ignore\")\n",
    "\n",
    "#df.head(10)\n",
    "#df.tail(10)"
   ]
  },
  {
   "cell_type": "code",
   "execution_count": 4,
   "id": "c4a33204-036b-4a0a-a3c0-28adc3e8b25f",
   "metadata": {},
   "outputs": [
    {
     "data": {
      "text/html": [
       "<div>\n",
       "<style scoped>\n",
       "    .dataframe tbody tr th:only-of-type {\n",
       "        vertical-align: middle;\n",
       "    }\n",
       "\n",
       "    .dataframe tbody tr th {\n",
       "        vertical-align: top;\n",
       "    }\n",
       "\n",
       "    .dataframe thead th {\n",
       "        text-align: right;\n",
       "    }\n",
       "</style>\n",
       "<table border=\"1\" class=\"dataframe\">\n",
       "  <thead>\n",
       "    <tr style=\"text-align: right;\">\n",
       "      <th></th>\n",
       "      <th>Görüş</th>\n",
       "    </tr>\n",
       "    <tr>\n",
       "      <th>Durum</th>\n",
       "      <th></th>\n",
       "    </tr>\n",
       "  </thead>\n",
       "  <tbody>\n",
       "    <tr>\n",
       "      <th>Olumlu</th>\n",
       "      <td>4242</td>\n",
       "    </tr>\n",
       "    <tr>\n",
       "      <th>Olumsuz</th>\n",
       "      <td>4228</td>\n",
       "    </tr>\n",
       "  </tbody>\n",
       "</table>\n",
       "</div>"
      ],
      "text/plain": [
       "         Görüş\n",
       "Durum         \n",
       "Olumlu    4242\n",
       "Olumsuz   4228"
      ]
     },
     "execution_count": 4,
     "metadata": {},
     "output_type": "execute_result"
    }
   ],
   "source": [
    "df = df[(df.Durum == \"Olumlu\") | (df.Durum == \"Olumsuz\") | (df.Durum == \"Tarafsız\")]\n",
    "df.groupby(\"Durum\").count()"
   ]
  },
  {
   "cell_type": "markdown",
   "id": "bc41a699-1663-4138-852a-3c4d194c90ac",
   "metadata": {
    "tags": []
   },
   "source": [
    "# Train - Test Uygulaması"
   ]
  },
  {
   "cell_type": "code",
   "execution_count": 5,
   "id": "5d5421a2-d9a6-4a01-a75c-7f8666dbea07",
   "metadata": {
    "tags": []
   },
   "outputs": [],
   "source": [
    "train_df = pd.DataFrame()\n",
    "train_df[\"text\"] = df[\"Görüş\"]\n",
    "train_df[\"label\"] = df[\"Durum\"]\n",
    "\n",
    "train_x, test_x, train_y, test_y = model_selection.train_test_split(train_df[\"text\"], train_df[\"label\"], test_size = 0.30, random_state = 42)\n",
    "encoder = preprocessing.LabelEncoder()\n",
    "train_y = encoder.fit_transform(train_y)\n",
    "test_y = encoder.fit_transform(test_y)\n",
    "\n",
    "#Count Vectorizer\n",
    "vectorizer = CountVectorizer()\n",
    "vectorizer.fit(train_x)\n",
    "x_train_count = vectorizer.transform(train_x)\n",
    "x_test_count = vectorizer.transform(test_x)\n",
    "\n",
    "#TF-IDF\n",
    "tf_idf_vectorizer = TfidfVectorizer()\n",
    "tf_idf_vectorizer.fit(train_x)\n",
    "x_train_tf_idf = tf_idf_vectorizer.transform(train_x)\n",
    "x_test_tf_idf = tf_idf_vectorizer.transform(test_x)\n"
   ]
  },
  {
   "cell_type": "markdown",
   "id": "2d6e011c-bf02-41ef-aef7-738027e97de9",
   "metadata": {
    "tags": []
   },
   "source": [
    "# Denetimli Makine Öğrenmesi"
   ]
  },
  {
   "cell_type": "code",
   "execution_count": 6,
   "id": "e2e330a3-08ae-44e5-92db-0049876b1a5d",
   "metadata": {
    "tags": []
   },
   "outputs": [
    {
     "data": {
      "image/png": "[encoded data removed]",
      "text/plain": [
       "<Figure size 360x360 with 1 Axes>"
      ]
     },
     "metadata": {
      "needs_background": "light"
     },
     "output_type": "display_data"
    },
    {
     "name": "stdout",
     "output_type": "stream",
     "text": [
      "Naive Bayes Count Vectors Doğruluk Oranı: 0.874847923421337\n",
      "              precision    recall  f1-score   support\n",
      "\n",
      "           0       0.86      0.91      0.89      1279\n",
      "           1       0.90      0.85      0.88      1262\n",
      "\n",
      "    accuracy                           0.88      2541\n",
      "   macro avg       0.88      0.88      0.88      2541\n",
      "weighted avg       0.88      0.88      0.88      2541\n",
      "\n"
     ]
    }
   ],
   "source": [
    "#Naive Bayes\n",
    "nb = naive_bayes.MultinomialNB()\n",
    "nb_model = nb.fit(x_train_count,train_y)\n",
    "accuracy = model_selection.cross_val_score(nb_model, x_test_count, test_y, cv = 10).mean()\n",
    "\n",
    "y_pred = nb_model.predict(x_test_count)\n",
    "conf_matrix = confusion_matrix(y_true=test_y, y_pred=y_pred)\n",
    "\n",
    "fig, ax = plt.subplots(figsize=(5, 5))\n",
    "ax.matshow(conf_matrix, cmap=plt.cm.Oranges, alpha=0.3)\n",
    "for i in range(conf_matrix.shape[0]):\n",
    "    for j in range(conf_matrix.shape[1]):\n",
    "        ax.text(x=j, y=i,s=conf_matrix[i, j], va='center', ha='center', size='xx-large')\n",
    " \n",
    "plt.xlabel('Tahmin', fontsize=18)\n",
    "plt.ylabel('Gerçek', fontsize=18)\n",
    "plt.title('Karışıklık Matrisi', fontsize=18)\n",
    "plt.show()\n",
    "\n",
    "print(\"Naive Bayes Count Vectors Doğruluk Oranı:\", accuracy)\n",
    "print(classification_report(test_y, y_pred))"
   ]
  },
  {
   "cell_type": "code",
   "execution_count": 7,
   "id": "e0a02c64-7acb-4932-b010-b174d96a8275",
   "metadata": {
    "tags": []
   },
   "outputs": [
    {
     "data": {
      "image/png": "[encoded data removed]",
      "text/plain": [
       "<Figure size 360x360 with 1 Axes>"
      ]
     },
     "metadata": {
      "needs_background": "light"
     },
     "output_type": "display_data"
    },
    {
     "name": "stdout",
     "output_type": "stream",
     "text": [
      "Naive Bayes TF-IDF Doğruluk Oranı: 0.8815392928825073\n",
      "              precision    recall  f1-score   support\n",
      "\n",
      "           0       0.89      0.90      0.89      1279\n",
      "           1       0.89      0.88      0.89      1262\n",
      "\n",
      "    accuracy                           0.89      2541\n",
      "   macro avg       0.89      0.89      0.89      2541\n",
      "weighted avg       0.89      0.89      0.89      2541\n",
      "\n"
     ]
    }
   ],
   "source": [
    "#Naive Bayes\n",
    "nb = naive_bayes.MultinomialNB()\n",
    "nb_model = nb.fit(x_train_tf_idf,train_y)\n",
    "accuracy = model_selection.cross_val_score(nb_model, x_test_tf_idf, test_y, cv = 10).mean()\n",
    "\n",
    "y_pred = nb_model.predict(x_test_tf_idf)\n",
    "conf_matrix = confusion_matrix(y_true=test_y, y_pred=y_pred)\n",
    "\n",
    "fig, ax = plt.subplots(figsize=(5, 5))\n",
    "ax.matshow(conf_matrix, cmap=plt.cm.Oranges, alpha=0.3)\n",
    "for i in range(conf_matrix.shape[0]):\n",
    "    for j in range(conf_matrix.shape[1]):\n",
    "        ax.text(x=j, y=i,s=conf_matrix[i, j], va='center', ha='center', size='xx-large')\n",
    " \n",
    "plt.xlabel('Tahmin', fontsize=18)\n",
    "plt.ylabel('Gerçek', fontsize=18)\n",
    "plt.title('Karışıklık Matrisi', fontsize=18)\n",
    "plt.show()\n",
    "\n",
    "print(\"Naive Bayes TF-IDF Doğruluk Oranı:\", accuracy)\n",
    "print(classification_report(test_y, y_pred))"
   ]
  },
  {
   "cell_type": "code",
   "execution_count": 8,
   "id": "7849f6ea-3eb6-415e-a0ea-1dd478f9733f",
   "metadata": {
    "tags": []
   },
   "outputs": [
    {
     "data": {
      "image/png": "[encoded data removed]",
      "text/plain": [
       "<Figure size 360x360 with 1 Axes>"
      ]
     },
     "metadata": {
      "needs_background": "light"
     },
     "output_type": "display_data"
    },
    {
     "name": "stdout",
     "output_type": "stream",
     "text": [
      "Lojistik Regresyon Count Vectors Doğruluk Oranı: 0.8658005249343832\n",
      "              precision    recall  f1-score   support\n",
      "\n",
      "           0       0.87      0.89      0.88      1279\n",
      "           1       0.89      0.87      0.88      1262\n",
      "\n",
      "    accuracy                           0.88      2541\n",
      "   macro avg       0.88      0.88      0.88      2541\n",
      "weighted avg       0.88      0.88      0.88      2541\n",
      "\n"
     ]
    }
   ],
   "source": [
    "#Lojistik regresyon\n",
    "loj = linear_model.LogisticRegression()\n",
    "loj_model = loj.fit(x_train_count, train_y)\n",
    "accuracy = model_selection.cross_val_score(loj_model, x_test_count, test_y, cv = 10).mean()\n",
    "\n",
    "y_pred = loj_model.predict(x_test_count)\n",
    "conf_matrix = confusion_matrix(y_true=test_y, y_pred=y_pred)\n",
    "\n",
    "fig, ax = plt.subplots(figsize=(5, 5))\n",
    "ax.matshow(conf_matrix, cmap=plt.cm.Oranges, alpha=0.3)\n",
    "for i in range(conf_matrix.shape[0]):\n",
    "    for j in range(conf_matrix.shape[1]):\n",
    "        ax.text(x=j, y=i,s=conf_matrix[i, j], va='center', ha='center', size='xx-large')\n",
    " \n",
    "plt.xlabel('Tahmin', fontsize=18)\n",
    "plt.ylabel('Gerçek', fontsize=18)\n",
    "plt.title('Karışıklık Matrisi', fontsize=18)\n",
    "plt.show()\n",
    "\n",
    "print(\"Lojistik Regresyon Count Vectors Doğruluk Oranı:\", accuracy)\n",
    "print(classification_report(test_y, y_pred))"
   ]
  },
  {
   "cell_type": "code",
   "execution_count": 9,
   "id": "3515916a-9db6-4b8b-bfb5-e269e9a35fdc",
   "metadata": {
    "tags": []
   },
   "outputs": [
    {
     "data": {
      "image/png": "[encoded data removed]",
      "text/plain": [
       "<Figure size 360x360 with 1 Axes>"
      ]
     },
     "metadata": {
      "needs_background": "light"
     },
     "output_type": "display_data"
    },
    {
     "name": "stdout",
     "output_type": "stream",
     "text": [
      "Lojistik Regresyon TF-IDF Doğruluk Oranı: 0.8732823838196696\n",
      "              precision    recall  f1-score   support\n",
      "\n",
      "           0       0.91      0.86      0.89      1279\n",
      "           1       0.87      0.91      0.89      1262\n",
      "\n",
      "    accuracy                           0.89      2541\n",
      "   macro avg       0.89      0.89      0.89      2541\n",
      "weighted avg       0.89      0.89      0.89      2541\n",
      "\n"
     ]
    }
   ],
   "source": [
    "#Lojistik regresyon\n",
    "loj = linear_model.LogisticRegression()\n",
    "loj_model = loj.fit(x_train_tf_idf,train_y)\n",
    "accuracy = model_selection.cross_val_score(loj_model, x_test_tf_idf, test_y, cv = 10).mean()\n",
    "\n",
    "y_pred = loj_model.predict(x_test_tf_idf)\n",
    "conf_matrix = confusion_matrix(y_true=test_y, y_pred=y_pred)\n",
    "\n",
    "fig, ax = plt.subplots(figsize=(5, 5))\n",
    "ax.matshow(conf_matrix, cmap=plt.cm.Oranges, alpha=0.3)\n",
    "for i in range(conf_matrix.shape[0]):\n",
    "    for j in range(conf_matrix.shape[1]):\n",
    "        ax.text(x=j, y=i,s=conf_matrix[i, j], va='center', ha='center', size='xx-large')\n",
    " \n",
    "plt.xlabel('Tahmin', fontsize=18)\n",
    "plt.ylabel('Gerçek', fontsize=18)\n",
    "plt.title('Karışıklık Matrisi', fontsize=18)\n",
    "plt.show()\n",
    "\n",
    "print(\"Lojistik Regresyon TF-IDF Doğruluk Oranı:\", accuracy)\n",
    "print(classification_report(test_y, y_pred))"
   ]
  },
  {
   "cell_type": "code",
   "execution_count": 10,
   "id": "dae3b72e-294a-4af2-975a-02bb91e9b011",
   "metadata": {
    "tags": []
   },
   "outputs": [
    {
     "data": {
      "image/png": "[encoded data removed]",
      "text/plain": [
       "<Figure size 360x360 with 1 Axes>"
      ]
     },
     "metadata": {
      "needs_background": "light"
     },
     "output_type": "display_data"
    },
    {
     "name": "stdout",
     "output_type": "stream",
     "text": [
      "SVM(Linear) Count Vectors Doğruluk Oranı: 0.8571452833101745\n",
      "              precision    recall  f1-score   support\n",
      "\n",
      "           0       0.84      0.90      0.87      1279\n",
      "           1       0.89      0.83      0.86      1262\n",
      "\n",
      "    accuracy                           0.86      2541\n",
      "   macro avg       0.87      0.86      0.86      2541\n",
      "weighted avg       0.87      0.86      0.86      2541\n",
      "\n"
     ]
    }
   ],
   "source": [
    "#Destek Vektör Sınıflandırıcısı\n",
    "svc_model = SVC(kernel='linear')\n",
    "svc_model.fit(x_train_count,train_y)\n",
    "accuracy = model_selection.cross_val_score(svc_model, x_test_count, test_y, cv = 10).mean()\n",
    "\n",
    "y_pred = svc_model.predict(x_test_count)\n",
    "conf_matrix = confusion_matrix(y_true=test_y, y_pred=y_pred)\n",
    "\n",
    "fig, ax = plt.subplots(figsize=(5, 5))\n",
    "ax.matshow(conf_matrix, cmap=plt.cm.Oranges, alpha=0.3)\n",
    "for i in range(conf_matrix.shape[0]):\n",
    "    for j in range(conf_matrix.shape[1]):\n",
    "        ax.text(x=j, y=i,s=conf_matrix[i, j], va='center', ha='center', size='xx-large')\n",
    " \n",
    "plt.xlabel('Tahmin', fontsize=18)\n",
    "plt.ylabel('Gerçek', fontsize=18)\n",
    "plt.title('Karışıklık Matrisi', fontsize=18)\n",
    "plt.show()\n",
    "\n",
    "print(\"SVM(Linear) Count Vectors Doğruluk Oranı:\", accuracy)\n",
    "print(classification_report(test_y, y_pred))"
   ]
  },
  {
   "cell_type": "code",
   "execution_count": 11,
   "id": "f0321c5d-5035-443e-b812-a0a8dee42c28",
   "metadata": {
    "tags": []
   },
   "outputs": [
    {
     "data": {
      "image/png": "[encoded data removed]",
      "text/plain": [
       "<Figure size 360x360 with 1 Axes>"
      ]
     },
     "metadata": {
      "needs_background": "light"
     },
     "output_type": "display_data"
    },
    {
     "name": "stdout",
     "output_type": "stream",
     "text": [
      "SVM(Linear) TF-IDF Doğruluk Oranı: 0.8839030415315733\n",
      "              precision    recall  f1-score   support\n",
      "\n",
      "           0       0.90      0.88      0.89      1279\n",
      "           1       0.88      0.90      0.89      1262\n",
      "\n",
      "    accuracy                           0.89      2541\n",
      "   macro avg       0.89      0.89      0.89      2541\n",
      "weighted avg       0.89      0.89      0.89      2541\n",
      "\n"
     ]
    }
   ],
   "source": [
    "#Destek Vektör Sınıflandırıcısı\n",
    "svc_model = SVC(kernel='linear')\n",
    "svc_model.fit(x_train_tf_idf,train_y)\n",
    "accuracy = model_selection.cross_val_score(svc_model, x_test_tf_idf, test_y, cv = 10).mean()\n",
    "\n",
    "y_pred = svc_model.predict(x_test_tf_idf)\n",
    "conf_matrix = confusion_matrix(y_true=test_y, y_pred=y_pred)\n",
    "\n",
    "fig, ax = plt.subplots(figsize=(5, 5))\n",
    "ax.matshow(conf_matrix, cmap=plt.cm.Oranges, alpha=0.3)\n",
    "for i in range(conf_matrix.shape[0]):\n",
    "    for j in range(conf_matrix.shape[1]):\n",
    "        ax.text(x=j, y=i,s=conf_matrix[i, j], va='center', ha='center', size='xx-large')\n",
    " \n",
    "plt.xlabel('Tahmin', fontsize=18)\n",
    "plt.ylabel('Gerçek', fontsize=18)\n",
    "plt.title('Karışıklık Matrisi', fontsize=18)\n",
    "plt.show()\n",
    "\n",
    "print(\"SVM(Linear) TF-IDF Doğruluk Oranı:\", accuracy)\n",
    "print(classification_report(test_y, y_pred))"
   ]
  },
  {
   "cell_type": "code",
   "execution_count": null,
   "id": "12c3feb4-496f-4e2f-94f1-9928af145ae3",
   "metadata": {
    "tags": []
   },
   "outputs": [],
   "source": [
    "#Destek Vektör Sınıflandırıcısı\n",
    "svc_model = SVC(kernel='rbf')\n",
    "svc_model.fit(x_train_count,train_y)\n",
    "accuracy = model_selection.cross_val_score(svc_model, x_test_count, test_y, cv = 10).mean()\n",
    "\n",
    "y_pred = svc_model.predict(x_test_count)\n",
    "conf_matrix = confusion_matrix(y_true=test_y, y_pred=y_pred)\n",
    "\n",
    "fig, ax = plt.subplots(figsize=(5, 5))\n",
    "ax.matshow(conf_matrix, cmap=plt.cm.Oranges, alpha=0.3)\n",
    "for i in range(conf_matrix.shape[0]):\n",
    "    for j in range(conf_matrix.shape[1]):\n",
    "        ax.text(x=j, y=i,s=conf_matrix[i, j], va='center', ha='center', size='xx-large')\n",
    " \n",
    "plt.xlabel('Tahmin', fontsize=18)\n",
    "plt.ylabel('Gerçek', fontsize=18)\n",
    "plt.title('Karışıklık Matrisi', fontsize=18)\n",
    "plt.show()\n",
    "\n",
    "print(\"SVM(RBF) Count Vectors Doğruluk Oranı:\", accuracy)\n",
    "print(classification_report(test_y, y_pred))"
   ]
  },
  {
   "cell_type": "code",
   "execution_count": null,
   "id": "2e7390c5-9123-476e-a05a-e7f8489548b7",
   "metadata": {
    "tags": []
   },
   "outputs": [],
   "source": [
    "#Destek Vektör Sınıflandırıcısı\n",
    "svc_model = SVC(kernel='rbf')\n",
    "svc_model.fit(x_train_tf_idf,train_y)\n",
    "accuracy = model_selection.cross_val_score(svc_model, x_test_tf_idf, test_y, cv = 10 ).mean()\n",
    "\n",
    "y_pred = svc_model.predict(x_test_tf_idf)\n",
    "conf_matrix = confusion_matrix(y_true=test_y, y_pred=y_pred)\n",
    "\n",
    "fig, ax = plt.subplots(figsize=(5, 5))\n",
    "ax.matshow(conf_matrix, cmap=plt.cm.Oranges, alpha=0.3)\n",
    "for i in range(conf_matrix.shape[0]):\n",
    "    for j in range(conf_matrix.shape[1]):\n",
    "        ax.text(x=j, y=i,s=conf_matrix[i, j], va='center', ha='center', size='xx-large')\n",
    " \n",
    "plt.xlabel('Tahmin', fontsize=18)\n",
    "plt.ylabel('Gerçek', fontsize=18)\n",
    "plt.title('Karışıklık Matrisi', fontsize=18)\n",
    "plt.show()\n",
    "\n",
    "print(\"SVM(RBF) TF-IDF Doğruluk Oranı:\", accuracy)\n",
    "print(classification_report(test_y, y_pred))"
   ]
  }
 ],
 "metadata": {
  "kernelspec": {
   "display_name": "Python 3 (ipykernel)",
   "language": "python",
   "name": "python3"
  },
  "language_info": {
   "codemirror_mode": {
    "name": "ipython",
    "version": 3
   },
   "file_extension": ".py",
   "mimetype": "text/x-python",
   "name": "python",
   "nbconvert_exporter": "python",
   "pygments_lexer": "ipython3",
   "version": "3.9.12"
  }
 },
 "nbformat": 4,
 "nbformat_minor": 5
}
